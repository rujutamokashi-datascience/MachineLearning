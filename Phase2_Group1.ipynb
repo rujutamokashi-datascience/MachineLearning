{
 "cells": [
  {
   "cell_type": "markdown",
   "id": "surprised-cholesterol",
   "metadata": {
    "toc": true
   },
   "source": [
    "<h1>Table of Contents<span class=\"tocSkip\"></span></h1>\n",
    "<div class=\"toc\"><ul class=\"toc-item\"><li><span><a href=\"#INTRODUCTION\" data-toc-modified-id=\"INTRODUCTION-1\"><span class=\"toc-item-num\">1&nbsp;&nbsp;</span>INTRODUCTION</a></span><ul class=\"toc-item\"><li><span><a href=\"#Report-Overview\" data-toc-modified-id=\"Report-Overview-1.1\"><span class=\"toc-item-num\">1.1&nbsp;&nbsp;</span>Report Overview</a></span></li><li><span><a href=\"#Overview-of-Methodology\" data-toc-modified-id=\"Overview-of-Methodology-1.2\"><span class=\"toc-item-num\">1.2&nbsp;&nbsp;</span>Overview of Methodology</a></span></li></ul></li><li><span><a href=\"#Predictive-Modelling\" data-toc-modified-id=\"Predictive-Modelling-2\"><span class=\"toc-item-num\">2&nbsp;&nbsp;</span>Predictive Modelling</a></span><ul class=\"toc-item\"><li><span><a href=\"#Feature-Selection\" data-toc-modified-id=\"Feature-Selection-2.1\"><span class=\"toc-item-num\">2.1&nbsp;&nbsp;</span>Feature Selection</a></span><ul class=\"toc-item\"><li><span><a href=\"#Feature-Selection-using-F-Score\" data-toc-modified-id=\"Feature-Selection-using-F-Score-2.1.1\"><span class=\"toc-item-num\">2.1.1&nbsp;&nbsp;</span>Feature Selection using F-Score</a></span></li><li><span><a href=\"#Feature-Seletion-using-Mutual-Information\" data-toc-modified-id=\"Feature-Seletion-using-Mutual-Information-2.1.2\"><span class=\"toc-item-num\">2.1.2&nbsp;&nbsp;</span>Feature Seletion using Mutual Information</a></span></li><li><span><a href=\"#Feature-Seletion-using-Random-Forest-Importance\" data-toc-modified-id=\"Feature-Seletion-using-Random-Forest-Importance-2.1.3\"><span class=\"toc-item-num\">2.1.3&nbsp;&nbsp;</span>Feature Seletion using Random Forest Importance</a></span></li></ul></li><li><span><a href=\"#Model-Fitting-&amp;-Tuning\" data-toc-modified-id=\"Model-Fitting-&amp;-Tuning-2.2\"><span class=\"toc-item-num\">2.2&nbsp;&nbsp;</span>Model Fitting &amp; Tuning</a></span><ul class=\"toc-item\"><li><span><a href=\"#KNN\" data-toc-modified-id=\"KNN-2.2.1\"><span class=\"toc-item-num\">2.2.1&nbsp;&nbsp;</span>KNN</a></span></li><li><span><a href=\"#Decision-Tree\" data-toc-modified-id=\"Decision-Tree-2.2.2\"><span class=\"toc-item-num\">2.2.2&nbsp;&nbsp;</span>Decision Tree</a></span></li><li><span><a href=\"#Naive-Bayes\" data-toc-modified-id=\"Naive-Bayes-2.2.3\"><span class=\"toc-item-num\">2.2.3&nbsp;&nbsp;</span>Naive Bayes</a></span></li><li><span><a href=\"#RandomForest\" data-toc-modified-id=\"RandomForest-2.2.4\"><span class=\"toc-item-num\">2.2.4&nbsp;&nbsp;</span>RandomForest</a></span></li></ul></li><li><span><a href=\"#Model-Comparison\" data-toc-modified-id=\"Model-Comparison-2.3\"><span class=\"toc-item-num\">2.3&nbsp;&nbsp;</span>Model Comparison</a></span></li></ul></li><li><span><a href=\"#Critique-&amp;-Limitations\" data-toc-modified-id=\"Critique-&amp;-Limitations-3\"><span class=\"toc-item-num\">3&nbsp;&nbsp;</span>Critique &amp; Limitations</a></span></li><li><span><a href=\"#Summary-&amp;-Conclusions\" data-toc-modified-id=\"Summary-&amp;-Conclusions-4\"><span class=\"toc-item-num\">4&nbsp;&nbsp;</span>Summary &amp; Conclusions</a></span><ul class=\"toc-item\"><li><span><a href=\"#Project-Summary\" data-toc-modified-id=\"Project-Summary-4.1\"><span class=\"toc-item-num\">4.1&nbsp;&nbsp;</span>Project Summary</a></span></li><li><span><a href=\"#Summary-of-Findings\" data-toc-modified-id=\"Summary-of-Findings-4.2\"><span class=\"toc-item-num\">4.2&nbsp;&nbsp;</span>Summary of Findings</a></span></li><li><span><a href=\"#Conclusions\" data-toc-modified-id=\"Conclusions-4.3\"><span class=\"toc-item-num\">4.3&nbsp;&nbsp;</span>Conclusions</a></span></li></ul></li><li><span><a href=\"#REFERENCES\" data-toc-modified-id=\"REFERENCES-5\"><span class=\"toc-item-num\">5&nbsp;&nbsp;</span>REFERENCES</a></span></li></ul></div>"
   ]
  },
  {
   "cell_type": "markdown",
   "id": "violent-variation",
   "metadata": {},
   "source": [
    "<b><font>Group Name:</font></b><font> Group 1</font>\n",
    "<br>"
   ]
  },
  {
   "cell_type": "markdown",
   "id": "focused-comfort",
   "metadata": {},
   "source": [
    "**Group Members**:\n",
    "- Hritik Tayade (s38033067)\n",
    "- Rujuta Mokashi(s3827722)"
   ]
  },
  {
   "cell_type": "markdown",
   "id": "logical-square",
   "metadata": {},
   "source": [
    "# INTRODUCTION\n",
    "In any E-Commerce business, it is necessary for the products to be delivered on time. This marks one of the criterias of customer satisfaction and the ratings given by the customer for the company. The delivery time of a product depends on the block of Warehouse from where the product leaves to the mode of  transportation depending on the importance of the product.\n",
    "\n",
    "In this report we have used an E-Commerece Shipping data of an International company, that sells electronic products and is interested in the key insights from their customer database(Kaggle,2021). \n",
    "The dataset can be accessed from [here](https://www.kaggle.com/prachi13/customer-analytics) which contains 12 feaures and 11000 observations.<br>\n",
    "The features of the dataset are as follows:\n",
    "\n",
    "\n",
    "| Feature Name | Data Type | Units | Description |\n",
    "| --- | --- | --- |--- |\n",
    "| ID | Integer | NA | NA | ID Number of Customers |\n",
    "| Warehouse block | Nominal | NA | The Company has big Warehouse which is divided in to block such as A,B,C,D,E. |\n",
    "| Mode of shipment | Nominal | NA | The Company Ships the products in multiple way such as Ship, Flight and Road. |\n",
    "| Customer care calls | Interger | NA | The number of calls made from enquiry for enquiry of the shipment. |\n",
    "| Customer rating | Interger | NA | The company has rated from every customer. 1 is the lowest, 5 is the highest (Best)|\n",
    "| Cost of the product | Interger  | U.S Dollar  | Cost of the Product in US Dollars |\n",
    "| Prior purchases | Interger  | NA | The Number of Prior Purchase |\n",
    "| Product importance | Ordinal | NA | The company has categorized the product in the various parameter such as low, medium, high |\n",
    "| Gender | Nominal | NA | Male and Female |\n",
    "| Discount offered | Interger | U.S. Dollar | Discount offered on that specific product. |\n",
    "| Weight in gms | Interger | Grams | It is the weight in grams |\n",
    "| Reached on time | Interger | NA | It is the target variable, where 1 Indicates that the product has not reached on time and 0 indicates it has reached on time |\n",
    "\n",
    "The report contains visualizations of various features and their correlations between them with the target variable being `Reached_on_Time` for the analysis and modelling. We will be using these features to predict if the products would reach on time or not.\n"
   ]
  },
  {
   "cell_type": "markdown",
   "id": "seven-canadian",
   "metadata": {},
   "source": [
    "## Report Overview\n",
    "In this report we develop various Machine Learning models, train them on the training data and evaluate their performances on both train and test data. For each model, a set of features are selected using various feature selection techniques discussed in the later section.Also, for each feature selection technique their performance score is evaluated before passing them to different models. For the dataset in consideration, we have used `KNN`, `Decision Tree`, `Naive Bayes` and `Random Forest` models which are fitted on the selected features, trained and tuned for various paramaters respectively.Towards the end of the report, the performance of each model on the test data along with the limitations of the approach used for developing those models is discussed. <br>\n",
    "Finally, the report is summarised with our findings on prediction of a product reaching on time and how the aptness  of the meothodology aligns with our goals and objectives for the E-Commerece Business. \n"
   ]
  },
  {
   "cell_type": "markdown",
   "id": "transsexual-reducing",
   "metadata": {},
   "source": [
    "## Overview of Methodology\n",
    "\n",
    "In this section, we first pre-process the data, splitting the data into feature and target dataframes. \n",
    "Next, we label encode the feature dataframe using get.dummies() function and scale it usinng the MinMaxScaler() function to finally split the data into train and test sets.These train and test sets are used in the predictive modelling section.\n",
    "In the predictive modelling section, feature selection is performed using `fscore`, `Mutual Information` and `Random Forest Importance` techniques. The performance of each feature selection technique is evaluated to select the best performing technique and use those feeatures obtained from the selected method are split into train and test sets for modelling.<br>\n",
    "Post feature selection, the train data is used for modelling `KNN`, `Decision Tree`, `Naive Bayes` and `Random Forest` classifiers, tunning the paramters for each model and evaluating their performances. The preformance of each model is compared on the test data based on the which the model with greater accuracy and efficiency is selected for making predictions."
   ]
  },
  {
   "cell_type": "code",
   "execution_count": 1,
   "id": "following-clearance",
   "metadata": {},
   "outputs": [],
   "source": [
    "#Importing required packages."
   ]
  },
  {
   "cell_type": "code",
   "execution_count": 2,
   "id": "danish-stockholm",
   "metadata": {},
   "outputs": [],
   "source": [
    "import pandas as pd\n",
    "import seaborn as sns\n",
    "import matplotlib.pyplot as plt\n",
    "import warnings\n",
    "import numpy as np\n",
    "import os\n",
    "from sklearn import preprocessing, metrics\n",
    "from sklearn import feature_selection as fs\n",
    "from sklearn.model_selection import train_test_split\n",
    "from sklearn.tree import DecisionTreeClassifier\n",
    "from sklearn.model_selection import cross_val_score, StratifiedKFold,GridSearchCV,RepeatedStratifiedKFold\n",
    "from sklearn import feature_selection as fs\n",
    "from sklearn.ensemble import RandomForestClassifier\n",
    "from sklearn.neighbors import KNeighborsClassifier\n",
    "\n"
   ]
  },
  {
   "cell_type": "code",
   "execution_count": 3,
   "id": "available-twins",
   "metadata": {},
   "outputs": [],
   "source": [
    "os.chdir(r'C:\\Users\\rujut\\Desktop\\ML Project')"
   ]
  },
  {
   "cell_type": "code",
   "execution_count": 4,
   "id": "painted-equity",
   "metadata": {},
   "outputs": [],
   "source": [
    "#Import data\n",
    "prod_info = pd.read_csv('Warehouse.csv')\n",
    "\n",
    "#Display the first 5 rows of the dataset\n",
    "#Dropping the ID column from the dataset.prod_info.head()"
   ]
  },
  {
   "cell_type": "code",
   "execution_count": 5,
   "id": "cognitive-firewall",
   "metadata": {},
   "outputs": [],
   "source": [
    "#Dropping the ID column from the dataset.\n",
    "prod_info.drop(['ID'],axis=1,inplace=True)\n",
    "\n",
    "#Renaming the \"Reached.on.Time_Y.N\" column. \n",
    "clean_data = prod_info.rename(columns={\"Reached.on.Time_Y.N\": \"Reached_On_Time\"})"
   ]
  },
  {
   "cell_type": "code",
   "execution_count": 6,
   "id": "falling-track",
   "metadata": {},
   "outputs": [
    {
     "data": {
      "text/html": [
       "<div>\n",
       "<style scoped>\n",
       "    .dataframe tbody tr th:only-of-type {\n",
       "        vertical-align: middle;\n",
       "    }\n",
       "\n",
       "    .dataframe tbody tr th {\n",
       "        vertical-align: top;\n",
       "    }\n",
       "\n",
       "    .dataframe thead th {\n",
       "        text-align: right;\n",
       "    }\n",
       "</style>\n",
       "<table border=\"1\" class=\"dataframe\">\n",
       "  <thead>\n",
       "    <tr style=\"text-align: right;\">\n",
       "      <th></th>\n",
       "      <th>Warehouse_block</th>\n",
       "      <th>Mode_of_Shipment</th>\n",
       "      <th>Customer_care_calls</th>\n",
       "      <th>Customer_rating</th>\n",
       "      <th>Cost_of_the_Product</th>\n",
       "      <th>Prior_purchases</th>\n",
       "      <th>Product_importance</th>\n",
       "      <th>Gender</th>\n",
       "      <th>Discount_offered</th>\n",
       "      <th>Weight_in_gms</th>\n",
       "      <th>Reached_On_Time</th>\n",
       "    </tr>\n",
       "  </thead>\n",
       "  <tbody>\n",
       "    <tr>\n",
       "      <th>0</th>\n",
       "      <td>D</td>\n",
       "      <td>Flight</td>\n",
       "      <td>4</td>\n",
       "      <td>2</td>\n",
       "      <td>177</td>\n",
       "      <td>3</td>\n",
       "      <td>low</td>\n",
       "      <td>F</td>\n",
       "      <td>44</td>\n",
       "      <td>1233</td>\n",
       "      <td>1</td>\n",
       "    </tr>\n",
       "    <tr>\n",
       "      <th>1</th>\n",
       "      <td>F</td>\n",
       "      <td>Flight</td>\n",
       "      <td>4</td>\n",
       "      <td>5</td>\n",
       "      <td>216</td>\n",
       "      <td>2</td>\n",
       "      <td>low</td>\n",
       "      <td>M</td>\n",
       "      <td>59</td>\n",
       "      <td>3088</td>\n",
       "      <td>1</td>\n",
       "    </tr>\n",
       "    <tr>\n",
       "      <th>2</th>\n",
       "      <td>A</td>\n",
       "      <td>Flight</td>\n",
       "      <td>2</td>\n",
       "      <td>2</td>\n",
       "      <td>183</td>\n",
       "      <td>4</td>\n",
       "      <td>low</td>\n",
       "      <td>M</td>\n",
       "      <td>48</td>\n",
       "      <td>3374</td>\n",
       "      <td>1</td>\n",
       "    </tr>\n",
       "    <tr>\n",
       "      <th>3</th>\n",
       "      <td>B</td>\n",
       "      <td>Flight</td>\n",
       "      <td>3</td>\n",
       "      <td>3</td>\n",
       "      <td>176</td>\n",
       "      <td>4</td>\n",
       "      <td>medium</td>\n",
       "      <td>M</td>\n",
       "      <td>10</td>\n",
       "      <td>1177</td>\n",
       "      <td>1</td>\n",
       "    </tr>\n",
       "    <tr>\n",
       "      <th>4</th>\n",
       "      <td>C</td>\n",
       "      <td>Flight</td>\n",
       "      <td>2</td>\n",
       "      <td>2</td>\n",
       "      <td>184</td>\n",
       "      <td>3</td>\n",
       "      <td>medium</td>\n",
       "      <td>F</td>\n",
       "      <td>46</td>\n",
       "      <td>2484</td>\n",
       "      <td>1</td>\n",
       "    </tr>\n",
       "  </tbody>\n",
       "</table>\n",
       "</div>"
      ],
      "text/plain": [
       "  Warehouse_block Mode_of_Shipment  Customer_care_calls  Customer_rating  \\\n",
       "0               D           Flight                    4                2   \n",
       "1               F           Flight                    4                5   \n",
       "2               A           Flight                    2                2   \n",
       "3               B           Flight                    3                3   \n",
       "4               C           Flight                    2                2   \n",
       "\n",
       "   Cost_of_the_Product  Prior_purchases Product_importance Gender  \\\n",
       "0                  177                3                low      F   \n",
       "1                  216                2                low      M   \n",
       "2                  183                4                low      M   \n",
       "3                  176                4             medium      M   \n",
       "4                  184                3             medium      F   \n",
       "\n",
       "   Discount_offered  Weight_in_gms  Reached_On_Time  \n",
       "0                44           1233                1  \n",
       "1                59           3088                1  \n",
       "2                48           3374                1  \n",
       "3                10           1177                1  \n",
       "4                46           2484                1  "
      ]
     },
     "execution_count": 6,
     "metadata": {},
     "output_type": "execute_result"
    }
   ],
   "source": [
    "#Displaying the first 5 rows of the clean data\n",
    "clean_data.head()"
   ]
  },
  {
   "cell_type": "code",
   "execution_count": 7,
   "id": "serial-formula",
   "metadata": {},
   "outputs": [],
   "source": [
    "#Dropping the \"Reached_On_Time\" column to make the feautre dataframe.\n",
    "product_data = clean_data.drop(columns = 'Reached_On_Time')\n",
    "\n",
    "#Making a target_feature dataframe using \"Reached_On_Time\" column.\n",
    "target_feature = clean_data['Reached_On_Time']"
   ]
  },
  {
   "cell_type": "code",
   "execution_count": 8,
   "id": "interpreted-generic",
   "metadata": {},
   "outputs": [
    {
     "data": {
      "text/html": [
       "<div>\n",
       "<style scoped>\n",
       "    .dataframe tbody tr th:only-of-type {\n",
       "        vertical-align: middle;\n",
       "    }\n",
       "\n",
       "    .dataframe tbody tr th {\n",
       "        vertical-align: top;\n",
       "    }\n",
       "\n",
       "    .dataframe thead th {\n",
       "        text-align: right;\n",
       "    }\n",
       "</style>\n",
       "<table border=\"1\" class=\"dataframe\">\n",
       "  <thead>\n",
       "    <tr style=\"text-align: right;\">\n",
       "      <th></th>\n",
       "      <th>Warehouse_block</th>\n",
       "      <th>Mode_of_Shipment</th>\n",
       "      <th>Customer_care_calls</th>\n",
       "      <th>Customer_rating</th>\n",
       "      <th>Cost_of_the_Product</th>\n",
       "      <th>Prior_purchases</th>\n",
       "      <th>Product_importance</th>\n",
       "      <th>Gender</th>\n",
       "      <th>Discount_offered</th>\n",
       "      <th>Weight_in_gms</th>\n",
       "    </tr>\n",
       "  </thead>\n",
       "  <tbody>\n",
       "    <tr>\n",
       "      <th>0</th>\n",
       "      <td>D</td>\n",
       "      <td>Flight</td>\n",
       "      <td>4</td>\n",
       "      <td>2</td>\n",
       "      <td>177</td>\n",
       "      <td>3</td>\n",
       "      <td>low</td>\n",
       "      <td>F</td>\n",
       "      <td>44</td>\n",
       "      <td>1233</td>\n",
       "    </tr>\n",
       "    <tr>\n",
       "      <th>1</th>\n",
       "      <td>F</td>\n",
       "      <td>Flight</td>\n",
       "      <td>4</td>\n",
       "      <td>5</td>\n",
       "      <td>216</td>\n",
       "      <td>2</td>\n",
       "      <td>low</td>\n",
       "      <td>M</td>\n",
       "      <td>59</td>\n",
       "      <td>3088</td>\n",
       "    </tr>\n",
       "    <tr>\n",
       "      <th>2</th>\n",
       "      <td>A</td>\n",
       "      <td>Flight</td>\n",
       "      <td>2</td>\n",
       "      <td>2</td>\n",
       "      <td>183</td>\n",
       "      <td>4</td>\n",
       "      <td>low</td>\n",
       "      <td>M</td>\n",
       "      <td>48</td>\n",
       "      <td>3374</td>\n",
       "    </tr>\n",
       "    <tr>\n",
       "      <th>3</th>\n",
       "      <td>B</td>\n",
       "      <td>Flight</td>\n",
       "      <td>3</td>\n",
       "      <td>3</td>\n",
       "      <td>176</td>\n",
       "      <td>4</td>\n",
       "      <td>medium</td>\n",
       "      <td>M</td>\n",
       "      <td>10</td>\n",
       "      <td>1177</td>\n",
       "    </tr>\n",
       "    <tr>\n",
       "      <th>4</th>\n",
       "      <td>C</td>\n",
       "      <td>Flight</td>\n",
       "      <td>2</td>\n",
       "      <td>2</td>\n",
       "      <td>184</td>\n",
       "      <td>3</td>\n",
       "      <td>medium</td>\n",
       "      <td>F</td>\n",
       "      <td>46</td>\n",
       "      <td>2484</td>\n",
       "    </tr>\n",
       "    <tr>\n",
       "      <th>...</th>\n",
       "      <td>...</td>\n",
       "      <td>...</td>\n",
       "      <td>...</td>\n",
       "      <td>...</td>\n",
       "      <td>...</td>\n",
       "      <td>...</td>\n",
       "      <td>...</td>\n",
       "      <td>...</td>\n",
       "      <td>...</td>\n",
       "      <td>...</td>\n",
       "    </tr>\n",
       "    <tr>\n",
       "      <th>10994</th>\n",
       "      <td>A</td>\n",
       "      <td>Ship</td>\n",
       "      <td>4</td>\n",
       "      <td>1</td>\n",
       "      <td>252</td>\n",
       "      <td>5</td>\n",
       "      <td>medium</td>\n",
       "      <td>F</td>\n",
       "      <td>1</td>\n",
       "      <td>1538</td>\n",
       "    </tr>\n",
       "    <tr>\n",
       "      <th>10995</th>\n",
       "      <td>B</td>\n",
       "      <td>Ship</td>\n",
       "      <td>4</td>\n",
       "      <td>1</td>\n",
       "      <td>232</td>\n",
       "      <td>5</td>\n",
       "      <td>medium</td>\n",
       "      <td>F</td>\n",
       "      <td>6</td>\n",
       "      <td>1247</td>\n",
       "    </tr>\n",
       "    <tr>\n",
       "      <th>10996</th>\n",
       "      <td>C</td>\n",
       "      <td>Ship</td>\n",
       "      <td>5</td>\n",
       "      <td>4</td>\n",
       "      <td>242</td>\n",
       "      <td>5</td>\n",
       "      <td>low</td>\n",
       "      <td>F</td>\n",
       "      <td>4</td>\n",
       "      <td>1155</td>\n",
       "    </tr>\n",
       "    <tr>\n",
       "      <th>10997</th>\n",
       "      <td>F</td>\n",
       "      <td>Ship</td>\n",
       "      <td>5</td>\n",
       "      <td>2</td>\n",
       "      <td>223</td>\n",
       "      <td>6</td>\n",
       "      <td>medium</td>\n",
       "      <td>M</td>\n",
       "      <td>2</td>\n",
       "      <td>1210</td>\n",
       "    </tr>\n",
       "    <tr>\n",
       "      <th>10998</th>\n",
       "      <td>D</td>\n",
       "      <td>Ship</td>\n",
       "      <td>2</td>\n",
       "      <td>5</td>\n",
       "      <td>155</td>\n",
       "      <td>5</td>\n",
       "      <td>low</td>\n",
       "      <td>F</td>\n",
       "      <td>6</td>\n",
       "      <td>1639</td>\n",
       "    </tr>\n",
       "  </tbody>\n",
       "</table>\n",
       "<p>10999 rows × 10 columns</p>\n",
       "</div>"
      ],
      "text/plain": [
       "      Warehouse_block Mode_of_Shipment  Customer_care_calls  Customer_rating  \\\n",
       "0                   D           Flight                    4                2   \n",
       "1                   F           Flight                    4                5   \n",
       "2                   A           Flight                    2                2   \n",
       "3                   B           Flight                    3                3   \n",
       "4                   C           Flight                    2                2   \n",
       "...               ...              ...                  ...              ...   \n",
       "10994               A             Ship                    4                1   \n",
       "10995               B             Ship                    4                1   \n",
       "10996               C             Ship                    5                4   \n",
       "10997               F             Ship                    5                2   \n",
       "10998               D             Ship                    2                5   \n",
       "\n",
       "       Cost_of_the_Product  Prior_purchases Product_importance Gender  \\\n",
       "0                      177                3                low      F   \n",
       "1                      216                2                low      M   \n",
       "2                      183                4                low      M   \n",
       "3                      176                4             medium      M   \n",
       "4                      184                3             medium      F   \n",
       "...                    ...              ...                ...    ...   \n",
       "10994                  252                5             medium      F   \n",
       "10995                  232                5             medium      F   \n",
       "10996                  242                5                low      F   \n",
       "10997                  223                6             medium      M   \n",
       "10998                  155                5                low      F   \n",
       "\n",
       "       Discount_offered  Weight_in_gms  \n",
       "0                    44           1233  \n",
       "1                    59           3088  \n",
       "2                    48           3374  \n",
       "3                    10           1177  \n",
       "4                    46           2484  \n",
       "...                 ...            ...  \n",
       "10994                 1           1538  \n",
       "10995                 6           1247  \n",
       "10996                 4           1155  \n",
       "10997                 2           1210  \n",
       "10998                 6           1639  \n",
       "\n",
       "[10999 rows x 10 columns]"
      ]
     },
     "execution_count": 8,
     "metadata": {},
     "output_type": "execute_result"
    }
   ],
   "source": [
    "#Displaying the product_data\n",
    "product_data"
   ]
  },
  {
   "cell_type": "code",
   "execution_count": 9,
   "id": "removable-butterfly",
   "metadata": {},
   "outputs": [
    {
     "data": {
      "text/html": [
       "<div>\n",
       "<style scoped>\n",
       "    .dataframe tbody tr th:only-of-type {\n",
       "        vertical-align: middle;\n",
       "    }\n",
       "\n",
       "    .dataframe tbody tr th {\n",
       "        vertical-align: top;\n",
       "    }\n",
       "\n",
       "    .dataframe thead th {\n",
       "        text-align: right;\n",
       "    }\n",
       "</style>\n",
       "<table border=\"1\" class=\"dataframe\">\n",
       "  <thead>\n",
       "    <tr style=\"text-align: right;\">\n",
       "      <th></th>\n",
       "      <th>Customer_care_calls</th>\n",
       "      <th>Customer_rating</th>\n",
       "      <th>Cost_of_the_Product</th>\n",
       "      <th>Prior_purchases</th>\n",
       "      <th>Discount_offered</th>\n",
       "      <th>Weight_in_gms</th>\n",
       "      <th>Warehouse_block_A</th>\n",
       "      <th>Warehouse_block_B</th>\n",
       "      <th>Warehouse_block_C</th>\n",
       "      <th>Warehouse_block_D</th>\n",
       "      <th>Warehouse_block_F</th>\n",
       "      <th>Mode_of_Shipment_Flight</th>\n",
       "      <th>Mode_of_Shipment_Road</th>\n",
       "      <th>Mode_of_Shipment_Ship</th>\n",
       "      <th>Product_importance_high</th>\n",
       "      <th>Product_importance_low</th>\n",
       "      <th>Product_importance_medium</th>\n",
       "      <th>Gender_F</th>\n",
       "      <th>Gender_M</th>\n",
       "    </tr>\n",
       "  </thead>\n",
       "  <tbody>\n",
       "    <tr>\n",
       "      <th>0</th>\n",
       "      <td>4</td>\n",
       "      <td>2</td>\n",
       "      <td>177</td>\n",
       "      <td>3</td>\n",
       "      <td>44</td>\n",
       "      <td>1233</td>\n",
       "      <td>0</td>\n",
       "      <td>0</td>\n",
       "      <td>0</td>\n",
       "      <td>1</td>\n",
       "      <td>0</td>\n",
       "      <td>1</td>\n",
       "      <td>0</td>\n",
       "      <td>0</td>\n",
       "      <td>0</td>\n",
       "      <td>1</td>\n",
       "      <td>0</td>\n",
       "      <td>1</td>\n",
       "      <td>0</td>\n",
       "    </tr>\n",
       "    <tr>\n",
       "      <th>1</th>\n",
       "      <td>4</td>\n",
       "      <td>5</td>\n",
       "      <td>216</td>\n",
       "      <td>2</td>\n",
       "      <td>59</td>\n",
       "      <td>3088</td>\n",
       "      <td>0</td>\n",
       "      <td>0</td>\n",
       "      <td>0</td>\n",
       "      <td>0</td>\n",
       "      <td>1</td>\n",
       "      <td>1</td>\n",
       "      <td>0</td>\n",
       "      <td>0</td>\n",
       "      <td>0</td>\n",
       "      <td>1</td>\n",
       "      <td>0</td>\n",
       "      <td>0</td>\n",
       "      <td>1</td>\n",
       "    </tr>\n",
       "    <tr>\n",
       "      <th>2</th>\n",
       "      <td>2</td>\n",
       "      <td>2</td>\n",
       "      <td>183</td>\n",
       "      <td>4</td>\n",
       "      <td>48</td>\n",
       "      <td>3374</td>\n",
       "      <td>1</td>\n",
       "      <td>0</td>\n",
       "      <td>0</td>\n",
       "      <td>0</td>\n",
       "      <td>0</td>\n",
       "      <td>1</td>\n",
       "      <td>0</td>\n",
       "      <td>0</td>\n",
       "      <td>0</td>\n",
       "      <td>1</td>\n",
       "      <td>0</td>\n",
       "      <td>0</td>\n",
       "      <td>1</td>\n",
       "    </tr>\n",
       "    <tr>\n",
       "      <th>3</th>\n",
       "      <td>3</td>\n",
       "      <td>3</td>\n",
       "      <td>176</td>\n",
       "      <td>4</td>\n",
       "      <td>10</td>\n",
       "      <td>1177</td>\n",
       "      <td>0</td>\n",
       "      <td>1</td>\n",
       "      <td>0</td>\n",
       "      <td>0</td>\n",
       "      <td>0</td>\n",
       "      <td>1</td>\n",
       "      <td>0</td>\n",
       "      <td>0</td>\n",
       "      <td>0</td>\n",
       "      <td>0</td>\n",
       "      <td>1</td>\n",
       "      <td>0</td>\n",
       "      <td>1</td>\n",
       "    </tr>\n",
       "    <tr>\n",
       "      <th>4</th>\n",
       "      <td>2</td>\n",
       "      <td>2</td>\n",
       "      <td>184</td>\n",
       "      <td>3</td>\n",
       "      <td>46</td>\n",
       "      <td>2484</td>\n",
       "      <td>0</td>\n",
       "      <td>0</td>\n",
       "      <td>1</td>\n",
       "      <td>0</td>\n",
       "      <td>0</td>\n",
       "      <td>1</td>\n",
       "      <td>0</td>\n",
       "      <td>0</td>\n",
       "      <td>0</td>\n",
       "      <td>0</td>\n",
       "      <td>1</td>\n",
       "      <td>1</td>\n",
       "      <td>0</td>\n",
       "    </tr>\n",
       "    <tr>\n",
       "      <th>...</th>\n",
       "      <td>...</td>\n",
       "      <td>...</td>\n",
       "      <td>...</td>\n",
       "      <td>...</td>\n",
       "      <td>...</td>\n",
       "      <td>...</td>\n",
       "      <td>...</td>\n",
       "      <td>...</td>\n",
       "      <td>...</td>\n",
       "      <td>...</td>\n",
       "      <td>...</td>\n",
       "      <td>...</td>\n",
       "      <td>...</td>\n",
       "      <td>...</td>\n",
       "      <td>...</td>\n",
       "      <td>...</td>\n",
       "      <td>...</td>\n",
       "      <td>...</td>\n",
       "      <td>...</td>\n",
       "    </tr>\n",
       "    <tr>\n",
       "      <th>10994</th>\n",
       "      <td>4</td>\n",
       "      <td>1</td>\n",
       "      <td>252</td>\n",
       "      <td>5</td>\n",
       "      <td>1</td>\n",
       "      <td>1538</td>\n",
       "      <td>1</td>\n",
       "      <td>0</td>\n",
       "      <td>0</td>\n",
       "      <td>0</td>\n",
       "      <td>0</td>\n",
       "      <td>0</td>\n",
       "      <td>0</td>\n",
       "      <td>1</td>\n",
       "      <td>0</td>\n",
       "      <td>0</td>\n",
       "      <td>1</td>\n",
       "      <td>1</td>\n",
       "      <td>0</td>\n",
       "    </tr>\n",
       "    <tr>\n",
       "      <th>10995</th>\n",
       "      <td>4</td>\n",
       "      <td>1</td>\n",
       "      <td>232</td>\n",
       "      <td>5</td>\n",
       "      <td>6</td>\n",
       "      <td>1247</td>\n",
       "      <td>0</td>\n",
       "      <td>1</td>\n",
       "      <td>0</td>\n",
       "      <td>0</td>\n",
       "      <td>0</td>\n",
       "      <td>0</td>\n",
       "      <td>0</td>\n",
       "      <td>1</td>\n",
       "      <td>0</td>\n",
       "      <td>0</td>\n",
       "      <td>1</td>\n",
       "      <td>1</td>\n",
       "      <td>0</td>\n",
       "    </tr>\n",
       "    <tr>\n",
       "      <th>10996</th>\n",
       "      <td>5</td>\n",
       "      <td>4</td>\n",
       "      <td>242</td>\n",
       "      <td>5</td>\n",
       "      <td>4</td>\n",
       "      <td>1155</td>\n",
       "      <td>0</td>\n",
       "      <td>0</td>\n",
       "      <td>1</td>\n",
       "      <td>0</td>\n",
       "      <td>0</td>\n",
       "      <td>0</td>\n",
       "      <td>0</td>\n",
       "      <td>1</td>\n",
       "      <td>0</td>\n",
       "      <td>1</td>\n",
       "      <td>0</td>\n",
       "      <td>1</td>\n",
       "      <td>0</td>\n",
       "    </tr>\n",
       "    <tr>\n",
       "      <th>10997</th>\n",
       "      <td>5</td>\n",
       "      <td>2</td>\n",
       "      <td>223</td>\n",
       "      <td>6</td>\n",
       "      <td>2</td>\n",
       "      <td>1210</td>\n",
       "      <td>0</td>\n",
       "      <td>0</td>\n",
       "      <td>0</td>\n",
       "      <td>0</td>\n",
       "      <td>1</td>\n",
       "      <td>0</td>\n",
       "      <td>0</td>\n",
       "      <td>1</td>\n",
       "      <td>0</td>\n",
       "      <td>0</td>\n",
       "      <td>1</td>\n",
       "      <td>0</td>\n",
       "      <td>1</td>\n",
       "    </tr>\n",
       "    <tr>\n",
       "      <th>10998</th>\n",
       "      <td>2</td>\n",
       "      <td>5</td>\n",
       "      <td>155</td>\n",
       "      <td>5</td>\n",
       "      <td>6</td>\n",
       "      <td>1639</td>\n",
       "      <td>0</td>\n",
       "      <td>0</td>\n",
       "      <td>0</td>\n",
       "      <td>1</td>\n",
       "      <td>0</td>\n",
       "      <td>0</td>\n",
       "      <td>0</td>\n",
       "      <td>1</td>\n",
       "      <td>0</td>\n",
       "      <td>1</td>\n",
       "      <td>0</td>\n",
       "      <td>1</td>\n",
       "      <td>0</td>\n",
       "    </tr>\n",
       "  </tbody>\n",
       "</table>\n",
       "<p>10999 rows × 19 columns</p>\n",
       "</div>"
      ],
      "text/plain": [
       "       Customer_care_calls  Customer_rating  Cost_of_the_Product  \\\n",
       "0                        4                2                  177   \n",
       "1                        4                5                  216   \n",
       "2                        2                2                  183   \n",
       "3                        3                3                  176   \n",
       "4                        2                2                  184   \n",
       "...                    ...              ...                  ...   \n",
       "10994                    4                1                  252   \n",
       "10995                    4                1                  232   \n",
       "10996                    5                4                  242   \n",
       "10997                    5                2                  223   \n",
       "10998                    2                5                  155   \n",
       "\n",
       "       Prior_purchases  Discount_offered  Weight_in_gms  Warehouse_block_A  \\\n",
       "0                    3                44           1233                  0   \n",
       "1                    2                59           3088                  0   \n",
       "2                    4                48           3374                  1   \n",
       "3                    4                10           1177                  0   \n",
       "4                    3                46           2484                  0   \n",
       "...                ...               ...            ...                ...   \n",
       "10994                5                 1           1538                  1   \n",
       "10995                5                 6           1247                  0   \n",
       "10996                5                 4           1155                  0   \n",
       "10997                6                 2           1210                  0   \n",
       "10998                5                 6           1639                  0   \n",
       "\n",
       "       Warehouse_block_B  Warehouse_block_C  Warehouse_block_D  \\\n",
       "0                      0                  0                  1   \n",
       "1                      0                  0                  0   \n",
       "2                      0                  0                  0   \n",
       "3                      1                  0                  0   \n",
       "4                      0                  1                  0   \n",
       "...                  ...                ...                ...   \n",
       "10994                  0                  0                  0   \n",
       "10995                  1                  0                  0   \n",
       "10996                  0                  1                  0   \n",
       "10997                  0                  0                  0   \n",
       "10998                  0                  0                  1   \n",
       "\n",
       "       Warehouse_block_F  Mode_of_Shipment_Flight  Mode_of_Shipment_Road  \\\n",
       "0                      0                        1                      0   \n",
       "1                      1                        1                      0   \n",
       "2                      0                        1                      0   \n",
       "3                      0                        1                      0   \n",
       "4                      0                        1                      0   \n",
       "...                  ...                      ...                    ...   \n",
       "10994                  0                        0                      0   \n",
       "10995                  0                        0                      0   \n",
       "10996                  0                        0                      0   \n",
       "10997                  1                        0                      0   \n",
       "10998                  0                        0                      0   \n",
       "\n",
       "       Mode_of_Shipment_Ship  Product_importance_high  Product_importance_low  \\\n",
       "0                          0                        0                       1   \n",
       "1                          0                        0                       1   \n",
       "2                          0                        0                       1   \n",
       "3                          0                        0                       0   \n",
       "4                          0                        0                       0   \n",
       "...                      ...                      ...                     ...   \n",
       "10994                      1                        0                       0   \n",
       "10995                      1                        0                       0   \n",
       "10996                      1                        0                       1   \n",
       "10997                      1                        0                       0   \n",
       "10998                      1                        0                       1   \n",
       "\n",
       "       Product_importance_medium  Gender_F  Gender_M  \n",
       "0                              0         1         0  \n",
       "1                              0         0         1  \n",
       "2                              0         0         1  \n",
       "3                              1         0         1  \n",
       "4                              1         1         0  \n",
       "...                          ...       ...       ...  \n",
       "10994                          1         1         0  \n",
       "10995                          1         1         0  \n",
       "10996                          0         1         0  \n",
       "10997                          1         0         1  \n",
       "10998                          0         1         0  \n",
       "\n",
       "[10999 rows x 19 columns]"
      ]
     },
     "execution_count": 9,
     "metadata": {},
     "output_type": "execute_result"
    }
   ],
   "source": [
    "#Getting dummies for the product_data dataframe \n",
    "prod_data = pd.get_dummies(product_data)\n",
    "prod_data"
   ]
  },
  {
   "cell_type": "code",
   "execution_count": 10,
   "id": "plain-christianity",
   "metadata": {},
   "outputs": [
    {
     "data": {
      "text/plain": [
       "array([[0.4       , 0.25      , 0.37850467, ..., 0.        , 1.        ,\n",
       "        0.        ],\n",
       "       [0.4       , 1.        , 0.56074766, ..., 0.        , 0.        ,\n",
       "        1.        ],\n",
       "       [0.        , 0.25      , 0.40654206, ..., 0.        , 0.        ,\n",
       "        1.        ],\n",
       "       ...,\n",
       "       [0.6       , 0.75      , 0.68224299, ..., 0.        , 1.        ,\n",
       "        0.        ],\n",
       "       [0.6       , 0.25      , 0.59345794, ..., 1.        , 0.        ,\n",
       "        1.        ],\n",
       "       [0.        , 1.        , 0.27570093, ..., 0.        , 1.        ,\n",
       "        0.        ]])"
      ]
     },
     "execution_count": 10,
     "metadata": {},
     "output_type": "execute_result"
    }
   ],
   "source": [
    "#Scaling the prod_data using MinMaxScaler function\n",
    "scaled_data = preprocessing.MinMaxScaler().fit_transform(prod_data)\n",
    "\n",
    "#Displaying the scaled data\n",
    "scaled_data"
   ]
  },
  {
   "cell_type": "code",
   "execution_count": 11,
   "id": "color-qualification",
   "metadata": {},
   "outputs": [],
   "source": [
    "#Splitting the data into train_test_split\n",
    "D_train, D_test, t_train, t_test = train_test_split(scaled_data, target_feature, test_size=0.3, random_state=999)      "
   ]
  },
  {
   "cell_type": "code",
   "execution_count": 12,
   "id": "literary-foundation",
   "metadata": {},
   "outputs": [
    {
     "name": "stdout",
     "output_type": "stream",
     "text": [
      "(7699, 19)\n",
      "(3300, 19)\n",
      "(7699,)\n",
      "(3300,)\n"
     ]
    }
   ],
   "source": [
    "#Displaying the shape of train and test sets\n",
    "    \n",
    "print(D_train.shape)\n",
    "print(D_test.shape)\n",
    "print(t_train.shape)\n",
    "print(t_test.shape)"
   ]
  },
  {
   "cell_type": "code",
   "execution_count": 13,
   "id": "informal-holiday",
   "metadata": {},
   "outputs": [
    {
     "data": {
      "text/plain": [
       "0        1\n",
       "1        1\n",
       "2        1\n",
       "3        1\n",
       "4        1\n",
       "        ..\n",
       "10994    1\n",
       "10995    0\n",
       "10996    0\n",
       "10997    0\n",
       "10998    0\n",
       "Name: Reached_On_Time, Length: 10999, dtype: int64"
      ]
     },
     "execution_count": 13,
     "metadata": {},
     "output_type": "execute_result"
    }
   ],
   "source": [
    "#Displaying the target feature\n",
    "target_feature"
   ]
  },
  {
   "cell_type": "markdown",
   "id": "electoral-lancaster",
   "metadata": {},
   "source": [
    "# Predictive Modelling\n",
    "\n",
    "In this section, we will be using the following classifying models from the supervised machine learning algorithms:\n",
    "\n",
    "- **KNN**\n",
    "- **Decision Tree**\n",
    "- **Naive Bayes**\n",
    "- **Random Forest**\n",
    "\n",
    "The train and test sets from the previous section will be used for feature selection.Further, based on the performance of each of the feature selection techniques,the features obtained from the best technique will be used for modeling the machine learning algorithms.Later, the selected features would be split into train and test splits and passed to the algorithms. The parameters of these algorithms will be tuned and the performance of each of those models will be evaluated to select the best perfoming model for prediction.\n"
   ]
  },
  {
   "cell_type": "markdown",
   "id": "focused-ready",
   "metadata": {},
   "source": [
    "## Feature Selection\n",
    "\n",
    "Feature selection is the process of selecting the significant features in order to build the best model for predcition. The process works by ranking features based on their importance and selecting the top rnaked features. The method used for feature selection are as follows :\n",
    "\n",
    "- **F-Score** : This scores each of the features individually based on their relationship with the target variable.\n",
    "- **Mutual Information** : This measure the dependency of the features indivudally with the target variable based on entropies.\n",
    "- **Random Forest Importance** :The method is a filter feature selection method that uses the total decrease in node impurities from splitting on a particular feature as averaged over all decision trees in the ensemble.\n",
    "\n",
    "The number of features to be chosen is pre-defined as 6 as for full model the performance decreases.Moreover, the scoring metric is taken as `roc_au` and the classifier to be test on is taken as ` decision classifier`.\n",
    "\n",
    "From our analysis the **Mutual Information** method performs better comapred to the rest of the feature selection techniques. Hence, we use those feautres given ontain from **Mutual Information** to split into train and test sets for modelling."
   ]
  },
  {
   "cell_type": "code",
   "execution_count": 14,
   "id": "black-investment",
   "metadata": {},
   "outputs": [],
   "source": [
    "num_features = 6\n",
    "scoring_metric = 'roc_auc'\n",
    "clf = DecisionTreeClassifier(random_state=999)"
   ]
  },
  {
   "cell_type": "code",
   "execution_count": 15,
   "id": "variable-flexibility",
   "metadata": {},
   "outputs": [],
   "source": [
    "#Checking the results of Full model using cross validation score"
   ]
  },
  {
   "cell_type": "code",
   "execution_count": 16,
   "id": "enhanced-generation",
   "metadata": {},
   "outputs": [],
   "source": [
    "cv_method = StratifiedKFold(n_splits=5, shuffle=True, random_state=999)"
   ]
  },
  {
   "cell_type": "code",
   "execution_count": 17,
   "id": "bronze-appreciation",
   "metadata": {},
   "outputs": [
    {
     "data": {
      "text/plain": [
       "array([0.63311316, 0.65483011, 0.65826923, 0.6525    , 0.61826923])"
      ]
     },
     "execution_count": 17,
     "metadata": {},
     "output_type": "execute_result"
    }
   ],
   "source": [
    "cv_results_full = cross_val_score(estimator=clf,\n",
    "                             X=D_test,\n",
    "                             y=t_test, \n",
    "                             cv=cv_method, \n",
    "                             scoring=scoring_metric)\n",
    "\n",
    "cv_results_full"
   ]
  },
  {
   "cell_type": "code",
   "execution_count": 18,
   "id": "brazilian-frost",
   "metadata": {},
   "outputs": [
    {
     "data": {
      "text/plain": [
       "0.643"
      ]
     },
     "execution_count": 18,
     "metadata": {},
     "output_type": "execute_result"
    }
   ],
   "source": [
    "#Taking the mean results of the score\n",
    "cv_perf_full = cv_results_full.mean().round(3)\n",
    "cv_perf_full"
   ]
  },
  {
   "cell_type": "markdown",
   "id": "sustained-wrestling",
   "metadata": {},
   "source": [
    "### Feature Selection using F-Score"
   ]
  },
  {
   "cell_type": "code",
   "execution_count": 19,
   "id": "accepted-boston",
   "metadata": {},
   "outputs": [
    {
     "data": {
      "text/plain": [
       "array(['Discount_offered', 'Weight_in_gms', 'Cost_of_the_Product',\n",
       "       'Customer_care_calls', 'Prior_purchases',\n",
       "       'Product_importance_high'], dtype=object)"
      ]
     },
     "execution_count": 19,
     "metadata": {},
     "output_type": "execute_result"
    }
   ],
   "source": [
    "# Feature selection using fscore\n",
    "fs_fit_fscore = fs.SelectKBest(fs.f_classif, k=num_features)\n",
    "fs_fit_fscore.fit_transform(D_train, t_train)\n",
    "fs_indices_fscore = np.argsort(np.nan_to_num(fs_fit_fscore.scores_))[::-1][0:num_features]\n",
    "# Let's see what these top features are\n",
    "best_features_fscore = prod_data.columns[fs_indices_fscore].values\n",
    "best_features_fscore"
   ]
  },
  {
   "cell_type": "code",
   "execution_count": 20,
   "id": "patent-funeral",
   "metadata": {},
   "outputs": [],
   "source": [
    "# Checking the performance of fscore for decision tree classifier\n"
   ]
  },
  {
   "cell_type": "code",
   "execution_count": 21,
   "id": "rotary-accident",
   "metadata": {},
   "outputs": [
    {
     "data": {
      "text/plain": [
       "0.639"
      ]
     },
     "execution_count": 21,
     "metadata": {},
     "output_type": "execute_result"
    }
   ],
   "source": [
    "cv_method = StratifiedKFold(n_splits=5, shuffle=True, random_state=999)\n",
    "cv_results_fscore = cross_val_score(estimator=clf,\n",
    "                             X=D_test[:, fs_indices_fscore],\n",
    "                             y=t_test, \n",
    "                             cv=cv_method, \n",
    "                             scoring=scoring_metric)\n",
    "cv_perf_fscore = cv_results_fscore.mean().round(3)\n",
    "cv_perf_fscore"
   ]
  },
  {
   "cell_type": "markdown",
   "id": "economic-scope",
   "metadata": {},
   "source": [
    "### Feature Seletion using Mutual Information"
   ]
  },
  {
   "cell_type": "code",
   "execution_count": 22,
   "id": "sufficient-structure",
   "metadata": {},
   "outputs": [
    {
     "data": {
      "text/plain": [
       "array(['Discount_offered', 'Weight_in_gms', 'Mode_of_Shipment_Road',\n",
       "       'Warehouse_block_A', 'Customer_care_calls', 'Warehouse_block_D'],\n",
       "      dtype=object)"
      ]
     },
     "execution_count": 22,
     "metadata": {},
     "output_type": "execute_result"
    }
   ],
   "source": [
    "# Feature selection using Mutual Information\n",
    "fs_fit_mutual_info = fs.SelectKBest(fs.mutual_info_classif, k=num_features)\n",
    "fs_fit_mutual_info.fit_transform(D_train, t_train)\n",
    "fs_indices_mutual_info = np.argsort(fs_fit_mutual_info.scores_)[::-1][0:num_features]\n",
    "best_features_mutual_info = prod_data.columns[fs_indices_mutual_info].values\n",
    "best_features_mutual_info"
   ]
  },
  {
   "cell_type": "code",
   "execution_count": 23,
   "id": "printable-circus",
   "metadata": {},
   "outputs": [
    {
     "data": {
      "text/plain": [
       "array([0.14832503, 0.12310523, 0.0075242 , 0.00733588, 0.0064441 ,\n",
       "       0.00417745])"
      ]
     },
     "execution_count": 23,
     "metadata": {},
     "output_type": "execute_result"
    }
   ],
   "source": [
    "feature_importances_mutual_info = fs_fit_mutual_info.scores_[fs_indices_mutual_info]\n",
    "feature_importances_mutual_info"
   ]
  },
  {
   "cell_type": "code",
   "execution_count": 24,
   "id": "improved-karaoke",
   "metadata": {},
   "outputs": [
    {
     "data": {
      "text/plain": [
       "0.619"
      ]
     },
     "execution_count": 24,
     "metadata": {},
     "output_type": "execute_result"
    }
   ],
   "source": [
    "# Checking the performance of Mutual Information for decision tree classifier\n",
    "cv_results_mutual_info = cross_val_score(estimator=clf,\n",
    "                             X=D_test[:, fs_indices_mutual_info],\n",
    "                             y=t_test, \n",
    "                             cv=cv_method, \n",
    "                             scoring=scoring_metric)\n",
    "cv_perf_mutual_info = cv_results_mutual_info.mean().round(3)\n",
    "cv_perf_mutual_info"
   ]
  },
  {
   "cell_type": "markdown",
   "id": "sexual-power",
   "metadata": {},
   "source": [
    "### Feature Seletion using Random Forest Importance"
   ]
  },
  {
   "cell_type": "code",
   "execution_count": 25,
   "id": "eastern-pierre",
   "metadata": {},
   "outputs": [
    {
     "data": {
      "text/plain": [
       "array(['Weight_in_gms', 'Discount_offered', 'Cost_of_the_Product',\n",
       "       'Prior_purchases', 'Customer_rating', 'Customer_care_calls'],\n",
       "      dtype=object)"
      ]
     },
     "execution_count": 25,
     "metadata": {},
     "output_type": "execute_result"
    }
   ],
   "source": [
    "model_rfi = RandomForestClassifier(n_estimators=100, random_state=999)\n",
    "model_rfi.fit(D_train, t_train)\n",
    "fs_indices_rfi = np.argsort(model_rfi.feature_importances_)[::-1][0:num_features]\n",
    "# Let's see what these top features are\n",
    "best_features_rfi = prod_data.columns[fs_indices_rfi].values\n",
    "best_features_rfi"
   ]
  },
  {
   "cell_type": "code",
   "execution_count": 26,
   "id": "confidential-generic",
   "metadata": {},
   "outputs": [
    {
     "data": {
      "text/plain": [
       "0.623"
      ]
     },
     "execution_count": 26,
     "metadata": {},
     "output_type": "execute_result"
    }
   ],
   "source": [
    "cv_results_rfi = cross_val_score(estimator=clf,\n",
    "                             X=D_test[:, fs_indices_rfi],\n",
    "                             y=t_test, \n",
    "                             cv=cv_method, \n",
    "                             scoring=scoring_metric)\n",
    "cv_perf_rfi = cv_results_rfi.mean().round(3)\n",
    "cv_perf_rfi"
   ]
  },
  {
   "cell_type": "code",
   "execution_count": 27,
   "id": "described-windows",
   "metadata": {},
   "outputs": [],
   "source": [
    "#Displaying the performance scores of the Full set of features and Feature selection techniques"
   ]
  },
  {
   "cell_type": "code",
   "execution_count": 28,
   "id": "nuclear-review",
   "metadata": {},
   "outputs": [
    {
     "name": "stdout",
     "output_type": "stream",
     "text": [
      "Full Set of Features (with 19 Features): 0.643\n",
      "Feature Selection with 6 Features:\n",
      "F-Score: 0.639\n",
      "Mutual Information: 0.619\n",
      "RFI: 0.623\n"
     ]
    }
   ],
   "source": [
    "print(f'Full Set of Features (with {D_train.shape[1]} Features):', cv_perf_full)\n",
    "print(f'Feature Selection with {num_features} Features:')\n",
    "print('F-Score:', cv_perf_fscore)\n",
    "print('Mutual Information:', cv_perf_mutual_info)\n",
    "print('RFI:', cv_perf_rfi)"
   ]
  },
  {
   "cell_type": "code",
   "execution_count": 29,
   "id": "humanitarian-brunei",
   "metadata": {},
   "outputs": [],
   "source": [
    "#Performing ttests for comparing the p-values of the selection techniques."
   ]
  },
  {
   "cell_type": "code",
   "execution_count": 30,
   "id": "likely-tractor",
   "metadata": {},
   "outputs": [
    {
     "name": "stdout",
     "output_type": "stream",
     "text": [
      "P-Value for Full vs F-Score: 0.419\n",
      "P-Value for Full vs Mutual Information: 0.216\n",
      "P-Value for Full vs RFI: 0.093\n"
     ]
    }
   ],
   "source": [
    "from scipy import stats\n",
    "print('P-Value for Full vs F-Score:', stats.ttest_rel(cv_results_full, cv_results_fscore).pvalue.round(3))\n",
    "print('P-Value for Full vs Mutual Information:', stats.ttest_rel(cv_results_full, cv_results_mutual_info).pvalue.round(3))\n",
    "print('P-Value for Full vs RFI:', stats.ttest_rel(cv_results_full, cv_results_rfi).pvalue.round(3))"
   ]
  },
  {
   "cell_type": "markdown",
   "id": "honest-friendly",
   "metadata": {},
   "source": [
    "Referred from Prac_SK2\n",
    "As we can see none of the pvalues are <0.05 thus none of the results are statistically different. \n",
    "However the **Mutual Information** method seems to work the best as the cross validation performance was the highest in comparison with other classifiers. Also, as this method is based on voting of results from multiple decision trees, it is likely to provide more accurate rankings."
   ]
  },
  {
   "cell_type": "code",
   "execution_count": 31,
   "id": "northern-appointment",
   "metadata": {},
   "outputs": [],
   "source": [
    "# from this point forward, we will only work with the selected features\n",
    "D_Train_fs = D_train[:, fs_indices_fscore]\n",
    "D_Test_fs  = D_test[:, fs_indices_fscore]"
   ]
  },
  {
   "cell_type": "markdown",
   "id": "damaged-findings",
   "metadata": {},
   "source": [
    "## Model Fitting & Tuning\n",
    "\n",
    "In this section, we will fit the various classifier models using the selected features obtained in the last section. The paramters for each of the models will be tuned using `cv_method` and the performance of each of the model will be evaluated "
   ]
  },
  {
   "cell_type": "markdown",
   "id": "marine-april",
   "metadata": {},
   "source": [
    "### KNN\n",
    "\n",
    "We start with Hyper paramter tuning fo the KNN model using `KNeighborsClassifier()`. The number of neighbors `n_neighbors` to be considered is pre-defined and the distance metric `p` is given as :\n",
    "- **1** :  Manhattan Distance\n",
    "- **2** : Euclidean Distance."
   ]
  },
  {
   "cell_type": "code",
   "execution_count": 32,
   "id": "seeing-reducing",
   "metadata": {},
   "outputs": [],
   "source": [
    "cv_method_train = StratifiedKFold(n_splits=5, shuffle=True, random_state=999)                                      "
   ]
  },
  {
   "cell_type": "code",
   "execution_count": 33,
   "id": "purple-canvas",
   "metadata": {},
   "outputs": [],
   "source": [
    "# Defining the parameters.\n",
    "params_KNN = {'n_neighbors': [1, 5, 10, 15, 20, 25, 30], 'p': [1, 2]}"
   ]
  },
  {
   "cell_type": "code",
   "execution_count": 34,
   "id": "failing-carpet",
   "metadata": {},
   "outputs": [],
   "source": [
    "#Perfroming Grid Search\n",
    "gs_KNN = GridSearchCV(estimator=KNeighborsClassifier(), \n",
    "                      param_grid=params_KNN, \n",
    "                      cv=cv_method_train,\n",
    "                      verbose=1,\n",
    "                      scoring=scoring_metric)"
   ]
  },
  {
   "cell_type": "code",
   "execution_count": 35,
   "id": "material-status",
   "metadata": {},
   "outputs": [
    {
     "name": "stdout",
     "output_type": "stream",
     "text": [
      "Fitting 5 folds for each of 14 candidates, totalling 70 fits\n"
     ]
    }
   ],
   "source": [
    "#Fitting model on train sets\n",
    "gs_KNN.fit(D_Train_fs, t_train);"
   ]
  },
  {
   "cell_type": "code",
   "execution_count": 36,
   "id": "continental-accessory",
   "metadata": {},
   "outputs": [
    {
     "data": {
      "text/plain": [
       "{'n_neighbors': 15, 'p': 2}"
      ]
     },
     "execution_count": 36,
     "metadata": {},
     "output_type": "execute_result"
    }
   ],
   "source": [
    "#Displaying the best parameters\n",
    "gs_KNN.best_params_"
   ]
  },
  {
   "cell_type": "code",
   "execution_count": 37,
   "id": "cosmetic-circuit",
   "metadata": {},
   "outputs": [
    {
     "data": {
      "text/plain": [
       "0.7411780450045724"
      ]
     },
     "execution_count": 37,
     "metadata": {},
     "output_type": "execute_result"
    }
   ],
   "source": [
    "#Displaying the best score\n",
    "gs_KNN.best_score_"
   ]
  },
  {
   "cell_type": "code",
   "execution_count": 38,
   "id": "educated-pitch",
   "metadata": {},
   "outputs": [
    {
     "data": {
      "text/plain": [
       "array([0.63226947, 0.64180024, 0.73265316, 0.73099824, 0.73777154,\n",
       "       0.73801776, 0.74006171, 0.74117805, 0.73942503, 0.74096142,\n",
       "       0.7380307 , 0.73794411, 0.73737726, 0.73757211])"
      ]
     },
     "execution_count": 38,
     "metadata": {},
     "output_type": "execute_result"
    }
   ],
   "source": [
    "# To extract more cross-validation results, we can call gs.csv_results \n",
    "# - a dictionary consisting of run details for each fold.\n",
    "gs_KNN.cv_results_['mean_test_score']"
   ]
  },
  {
   "cell_type": "code",
   "execution_count": 39,
   "id": "threatened-atlas",
   "metadata": {},
   "outputs": [],
   "source": [
    "results_KNN = pd.DataFrame(gs_KNN.cv_results_['params'])"
   ]
  },
  {
   "cell_type": "code",
   "execution_count": 40,
   "id": "missing-discipline",
   "metadata": {},
   "outputs": [],
   "source": [
    "results_KNN['test_score'] = gs_KNN.cv_results_['mean_test_score']"
   ]
  },
  {
   "cell_type": "code",
   "execution_count": 41,
   "id": "knowing-playing",
   "metadata": {},
   "outputs": [
    {
     "data": {
      "text/html": [
       "<div>\n",
       "<style scoped>\n",
       "    .dataframe tbody tr th:only-of-type {\n",
       "        vertical-align: middle;\n",
       "    }\n",
       "\n",
       "    .dataframe tbody tr th {\n",
       "        vertical-align: top;\n",
       "    }\n",
       "\n",
       "    .dataframe thead th {\n",
       "        text-align: right;\n",
       "    }\n",
       "</style>\n",
       "<table border=\"1\" class=\"dataframe\">\n",
       "  <thead>\n",
       "    <tr style=\"text-align: right;\">\n",
       "      <th></th>\n",
       "      <th>n_neighbors</th>\n",
       "      <th>p</th>\n",
       "      <th>test_score</th>\n",
       "      <th>metric</th>\n",
       "    </tr>\n",
       "  </thead>\n",
       "  <tbody>\n",
       "    <tr>\n",
       "      <th>0</th>\n",
       "      <td>1</td>\n",
       "      <td>1</td>\n",
       "      <td>0.632269</td>\n",
       "      <td>Manhattan</td>\n",
       "    </tr>\n",
       "    <tr>\n",
       "      <th>1</th>\n",
       "      <td>1</td>\n",
       "      <td>2</td>\n",
       "      <td>0.641800</td>\n",
       "      <td>Euclidean</td>\n",
       "    </tr>\n",
       "    <tr>\n",
       "      <th>2</th>\n",
       "      <td>5</td>\n",
       "      <td>1</td>\n",
       "      <td>0.732653</td>\n",
       "      <td>Manhattan</td>\n",
       "    </tr>\n",
       "    <tr>\n",
       "      <th>3</th>\n",
       "      <td>5</td>\n",
       "      <td>2</td>\n",
       "      <td>0.730998</td>\n",
       "      <td>Euclidean</td>\n",
       "    </tr>\n",
       "    <tr>\n",
       "      <th>4</th>\n",
       "      <td>10</td>\n",
       "      <td>1</td>\n",
       "      <td>0.737772</td>\n",
       "      <td>Manhattan</td>\n",
       "    </tr>\n",
       "    <tr>\n",
       "      <th>5</th>\n",
       "      <td>10</td>\n",
       "      <td>2</td>\n",
       "      <td>0.738018</td>\n",
       "      <td>Euclidean</td>\n",
       "    </tr>\n",
       "    <tr>\n",
       "      <th>6</th>\n",
       "      <td>15</td>\n",
       "      <td>1</td>\n",
       "      <td>0.740062</td>\n",
       "      <td>Manhattan</td>\n",
       "    </tr>\n",
       "    <tr>\n",
       "      <th>7</th>\n",
       "      <td>15</td>\n",
       "      <td>2</td>\n",
       "      <td>0.741178</td>\n",
       "      <td>Euclidean</td>\n",
       "    </tr>\n",
       "    <tr>\n",
       "      <th>8</th>\n",
       "      <td>20</td>\n",
       "      <td>1</td>\n",
       "      <td>0.739425</td>\n",
       "      <td>Manhattan</td>\n",
       "    </tr>\n",
       "    <tr>\n",
       "      <th>9</th>\n",
       "      <td>20</td>\n",
       "      <td>2</td>\n",
       "      <td>0.740961</td>\n",
       "      <td>Euclidean</td>\n",
       "    </tr>\n",
       "    <tr>\n",
       "      <th>10</th>\n",
       "      <td>25</td>\n",
       "      <td>1</td>\n",
       "      <td>0.738031</td>\n",
       "      <td>Manhattan</td>\n",
       "    </tr>\n",
       "    <tr>\n",
       "      <th>11</th>\n",
       "      <td>25</td>\n",
       "      <td>2</td>\n",
       "      <td>0.737944</td>\n",
       "      <td>Euclidean</td>\n",
       "    </tr>\n",
       "    <tr>\n",
       "      <th>12</th>\n",
       "      <td>30</td>\n",
       "      <td>1</td>\n",
       "      <td>0.737377</td>\n",
       "      <td>Manhattan</td>\n",
       "    </tr>\n",
       "    <tr>\n",
       "      <th>13</th>\n",
       "      <td>30</td>\n",
       "      <td>2</td>\n",
       "      <td>0.737572</td>\n",
       "      <td>Euclidean</td>\n",
       "    </tr>\n",
       "  </tbody>\n",
       "</table>\n",
       "</div>"
      ],
      "text/plain": [
       "    n_neighbors  p  test_score     metric\n",
       "0             1  1    0.632269  Manhattan\n",
       "1             1  2    0.641800  Euclidean\n",
       "2             5  1    0.732653  Manhattan\n",
       "3             5  2    0.730998  Euclidean\n",
       "4            10  1    0.737772  Manhattan\n",
       "5            10  2    0.738018  Euclidean\n",
       "6            15  1    0.740062  Manhattan\n",
       "7            15  2    0.741178  Euclidean\n",
       "8            20  1    0.739425  Manhattan\n",
       "9            20  2    0.740961  Euclidean\n",
       "10           25  1    0.738031  Manhattan\n",
       "11           25  2    0.737944  Euclidean\n",
       "12           30  1    0.737377  Manhattan\n",
       "13           30  2    0.737572  Euclidean"
      ]
     },
     "execution_count": 41,
     "metadata": {},
     "output_type": "execute_result"
    }
   ],
   "source": [
    "#Displaying the score based on n neighbors and distance parameters\n",
    "results_KNN['metric'] = results_KNN['p'].replace([1,2], [\"Manhattan\", \"Euclidean\"])\n",
    "results_KNN"
   ]
  },
  {
   "cell_type": "code",
   "execution_count": 42,
   "id": "tutorial-clothing",
   "metadata": {},
   "outputs": [
    {
     "data": {
      "image/png": "[encoded data removed]",
      "text/plain": [
       "<Figure size 432x288 with 1 Axes>"
      ]
     },
     "metadata": {
      "needs_background": "light"
     },
     "output_type": "display_data"
    }
   ],
   "source": [
    "#Plotting the performance of KNN model\n",
    "for i in [\"Manhattan\", \"Euclidean\"]:\n",
    "    temp = results_KNN[results_KNN['metric'] == i]\n",
    "    plt.plot(temp['n_neighbors'], temp['test_score'], marker = '.', label = i)\n",
    "    \n",
    "plt.legend()\n",
    "plt.xlabel('Number of Neighbors')\n",
    "plt.ylabel(\"Mean CV Score\")\n",
    "plt.title(\"KNN Performance Comparison\")\n",
    "plt.show()"
   ]
  },
  {
   "cell_type": "markdown",
   "id": "three-extension",
   "metadata": {},
   "source": [
    "From the above graph it can be seen that the `Euclidean Distance` has a  CV score of **0.74** for **15 neighbors** which is greater  comapred to `Manhattan Distance`."
   ]
  },
  {
   "cell_type": "markdown",
   "id": "liquid-therapist",
   "metadata": {},
   "source": [
    "### Decision Tree\n",
    "\n",
    "For the decision tree classifier the `DecisionTreeClassifier()` function is used. For this `max_depth` and `min_samples_split` are pre-defined  and passed to the classifier. The train and test data is then fitted on these parameters. The model evaluation is done using `cv_method()`."
   ]
  },
  {
   "cell_type": "code",
   "execution_count": 43,
   "id": "accomplished-globe",
   "metadata": {},
   "outputs": [
    {
     "name": "stdout",
     "output_type": "stream",
     "text": [
      "Fitting 5 folds for each of 25 candidates, totalling 125 fits\n"
     ]
    }
   ],
   "source": [
    "df_classifier = DecisionTreeClassifier(random_state=999)\n",
    "params_DT = {'max_depth': [3, 5, 7, 10, 12],\n",
    "             'min_samples_split': [2, 5, 15, 20, 25]}\n",
    "\n",
    "#Performing Grid Search\n",
    "gs_DT = GridSearchCV(estimator=df_classifier, \n",
    "                     param_grid=params_DT, \n",
    "                     cv=cv_method_train,\n",
    "                     verbose=1, \n",
    "                     scoring=scoring_metric)\n",
    "\n",
    "#Fitting the model on the train sets\n",
    "gs_DT.fit(D_Train_fs, t_train);"
   ]
  },
  {
   "cell_type": "code",
   "execution_count": 44,
   "id": "random-anthropology",
   "metadata": {},
   "outputs": [
    {
     "data": {
      "text/plain": [
       "{'max_depth': 5, 'min_samples_split': 20}"
      ]
     },
     "execution_count": 44,
     "metadata": {},
     "output_type": "execute_result"
    }
   ],
   "source": [
    "#Displaying the best parameters\n",
    "gs_DT.best_params_"
   ]
  },
  {
   "cell_type": "code",
   "execution_count": 45,
   "id": "going-foster",
   "metadata": {},
   "outputs": [
    {
     "data": {
      "text/plain": [
       "0.7445113251748336"
      ]
     },
     "execution_count": 45,
     "metadata": {},
     "output_type": "execute_result"
    }
   ],
   "source": [
    "#Displaying the best score\n",
    "gs_DT.best_score_"
   ]
  },
  {
   "cell_type": "code",
   "execution_count": 46,
   "id": "checked-execution",
   "metadata": {},
   "outputs": [
    {
     "data": {
      "text/plain": [
       "Index(['max_depth', 'min_samples_split', 'test_score'], dtype='object')"
      ]
     },
     "execution_count": 46,
     "metadata": {},
     "output_type": "execute_result"
    }
   ],
   "source": [
    "# Let's define a new data frame to store the DT grid search results for visualization.\n",
    "results_DT = pd.DataFrame(gs_DT.cv_results_['params'])\n",
    "results_DT['test_score'] = gs_DT.cv_results_['mean_test_score']\n",
    "results_DT.columns"
   ]
  },
  {
   "cell_type": "code",
   "execution_count": 47,
   "id": "revolutionary-vertex",
   "metadata": {},
   "outputs": [
    {
     "data": {
      "image/png": "[encoded data removed]",
      "text/plain": [
       "<Figure size 432x288 with 1 Axes>"
      ]
     },
     "metadata": {
      "needs_background": "light"
     },
     "output_type": "display_data"
    }
   ],
   "source": [
    "#Plotting the performance of the Decision Tree\n",
    "for i in [2, 5, 15, 20, 25]:\n",
    "    temp = results_DT[results_DT['min_samples_split'] == i]\n",
    "    temp_average = temp.groupby('max_depth').agg({'test_score': 'mean'})\n",
    "    plt.plot(temp_average, marker = '.', label = 'min sample split: ' + str(i))\n",
    "    \n",
    "    \n",
    "plt.legend()\n",
    "plt.xlabel('Max Depth')\n",
    "plt.ylabel(\"Mean CV Score\")\n",
    "plt.title(\"DT Performance Comparison\")\n",
    "plt.show()"
   ]
  },
  {
   "cell_type": "markdown",
   "id": "enclosed-latin",
   "metadata": {},
   "source": [
    "From the above plot it cnan be seen that for `min sample split` of **20** has a CV score of **0.744** for **max depth** of **5** which is greater than another sample splits."
   ]
  },
  {
   "cell_type": "markdown",
   "id": "blank-briefing",
   "metadata": {},
   "source": [
    "### Naive Bayes\n",
    "\n",
    "The `Naive Bayes` algorithm uses the `GaussianNB()` classifer for fitting the model. Before that `Power Transformation` is applied to the descriptive feautres as the features need to follow the Gaussian Distribution for the implementation of the Naive Bayes algortihm.\n",
    "For this we specify the smoothing parameter which will lie in the logspace of 10 to 10^-2 using the `Grid Serach CV` strategy is used on which the trained data is fitted."
   ]
  },
  {
   "cell_type": "code",
   "execution_count": 48,
   "id": "passive-feeling",
   "metadata": {},
   "outputs": [
    {
     "name": "stdout",
     "output_type": "stream",
     "text": [
      "Fitting 5 folds for each of 50 candidates, totalling 250 fits\n"
     ]
    }
   ],
   "source": [
    "from sklearn.naive_bayes import GaussianNB\n",
    "from sklearn.preprocessing import PowerTransformer\n",
    "\n",
    "nb_classifier = GaussianNB()\n",
    "\n",
    "params_NB = {'var_smoothing': np.logspace(1,-2, num=50)}\n",
    "\n",
    "#Performing Grid Search\n",
    "gs_NB = GridSearchCV(estimator=nb_classifier, \n",
    "                     param_grid=params_NB, \n",
    "                     cv=cv_method_train,\n",
    "                     verbose=1, \n",
    "                     scoring=scoring_metric)\n",
    "#Applying Power Transformation\n",
    "D_Train_fs_transformed = PowerTransformer().fit_transform(D_Train_fs)\n",
    "\n",
    "#Fitting the model on the train sets\n",
    "gs_NB.fit(D_Train_fs_transformed, t_train);"
   ]
  },
  {
   "cell_type": "code",
   "execution_count": 49,
   "id": "worse-indian",
   "metadata": {},
   "outputs": [
    {
     "data": {
      "text/plain": [
       "{'var_smoothing': 0.22229964825261944}"
      ]
     },
     "execution_count": 49,
     "metadata": {},
     "output_type": "execute_result"
    }
   ],
   "source": [
    "#Displaying the best parameters\n",
    "gs_NB.best_params_"
   ]
  },
  {
   "cell_type": "code",
   "execution_count": 50,
   "id": "neither-sight",
   "metadata": {},
   "outputs": [
    {
     "data": {
      "text/plain": [
       "0.7307294228664336"
      ]
     },
     "execution_count": 50,
     "metadata": {},
     "output_type": "execute_result"
    }
   ],
   "source": [
    "#Displaying the best score\n",
    "gs_NB.best_score_"
   ]
  },
  {
   "cell_type": "code",
   "execution_count": 51,
   "id": "three-brass",
   "metadata": {},
   "outputs": [],
   "source": [
    "# Let's define a new data frame to store the NB grid search results for visualization\n",
    "results_NB = pd.DataFrame(gs_NB.cv_results_['params'])\n",
    "results_NB['test_score'] = gs_NB.cv_results_['mean_test_score']"
   ]
  },
  {
   "cell_type": "code",
   "execution_count": 52,
   "id": "smaller-maximum",
   "metadata": {},
   "outputs": [
    {
     "data": {
      "image/png": "[encoded data removed]",
      "text/plain": [
       "<Figure size 432x288 with 1 Axes>"
      ]
     },
     "metadata": {
      "needs_background": "light"
     },
     "output_type": "display_data"
    }
   ],
   "source": [
    "#Plotting the performance of the model \n",
    "plt.plot(results_NB['var_smoothing'], results_NB['test_score'], marker = '.')    \n",
    "plt.xlabel('Var. Smoothing')\n",
    "plt.ylabel(\"Mean CV Score\")\n",
    "plt.title(\"NB Performance Comparison\")\n",
    "plt.show()"
   ]
  },
  {
   "cell_type": "markdown",
   "id": "immune-distance",
   "metadata": {},
   "source": [
    "From the plot it can be seen that the model has highest CV of **0.7306** smoothing of **0.222** "
   ]
  },
  {
   "cell_type": "markdown",
   "id": "amateur-router",
   "metadata": {},
   "source": [
    "### RandomForest\n",
    "\n",
    "For the Random Forest model the `Random Forest Classifer` is used. The pre-defined parameters passed to the model are \n",
    "- **n_estimators** : [100,250,500]\n",
    "- **max_depth** :[5,6,10,12]\n",
    "\n",
    "The `GridSearchCv` fitting strategy is used for fitting the parameters on the training data."
   ]
  },
  {
   "cell_type": "code",
   "execution_count": 53,
   "id": "sophisticated-territory",
   "metadata": {},
   "outputs": [
    {
     "name": "stdout",
     "output_type": "stream",
     "text": [
      "Fitting 5 folds for each of 12 candidates, totalling 60 fits\n"
     ]
    }
   ],
   "source": [
    "from sklearn.naive_bayes import GaussianNB\n",
    "from sklearn.preprocessing import PowerTransformer\n",
    "\n",
    "rf_classifier = RandomForestClassifier(random_state=999)\n",
    "\n",
    "#Defining the parameters\n",
    "params_RF = {'n_estimators': [100, 250, 500],\n",
    "             'max_depth': [5, 7, 10, 12]}\n",
    "\n",
    "#Performing Grid Search\n",
    "gs_RF = GridSearchCV(estimator=rf_classifier, \n",
    "                     param_grid=params_RF, \n",
    "                     cv=cv_method_train,\n",
    "                     verbose=1,\n",
    "                     n_jobs=-2,\n",
    "                     scoring=scoring_metric)\n",
    "\n",
    "#Fitting the model with the train sets\n",
    "gs_RF.fit(D_Train_fs, t_train);"
   ]
  },
  {
   "cell_type": "code",
   "execution_count": 54,
   "id": "abandoned-journal",
   "metadata": {},
   "outputs": [
    {
     "data": {
      "text/plain": [
       "{'max_depth': 7, 'n_estimators': 250}"
      ]
     },
     "execution_count": 54,
     "metadata": {},
     "output_type": "execute_result"
    }
   ],
   "source": [
    "#Displaying the best parameters\n",
    "gs_RF.best_params_"
   ]
  },
  {
   "cell_type": "code",
   "execution_count": 55,
   "id": "ahead-activity",
   "metadata": {},
   "outputs": [
    {
     "data": {
      "text/plain": [
       "0.7436961005573999"
      ]
     },
     "execution_count": 55,
     "metadata": {},
     "output_type": "execute_result"
    }
   ],
   "source": [
    "#Displaying the best score\n",
    "gs_RF.best_score_"
   ]
  },
  {
   "cell_type": "code",
   "execution_count": 56,
   "id": "engaging-eight",
   "metadata": {},
   "outputs": [
    {
     "data": {
      "text/plain": [
       "Index(['max_depth', 'n_estimators', 'test_score'], dtype='object')"
      ]
     },
     "execution_count": 56,
     "metadata": {},
     "output_type": "execute_result"
    }
   ],
   "source": [
    "# Let's define a new data frame to store the grid search results for visualization.\n",
    "results_RF = pd.DataFrame(gs_RF.cv_results_['params'])\n",
    "results_RF['test_score'] = gs_RF.cv_results_['mean_test_score']\n",
    "results_RF.columns"
   ]
  },
  {
   "cell_type": "code",
   "execution_count": 57,
   "id": "victorian-figure",
   "metadata": {},
   "outputs": [
    {
     "data": {
      "image/png": "[encoded data removed]",
      "text/plain": [
       "<Figure size 432x288 with 1 Axes>"
      ]
     },
     "metadata": {
      "needs_background": "light"
     },
     "output_type": "display_data"
    }
   ],
   "source": [
    "#Plotting the performance of Naive Bayes Model\n",
    "for i in results_RF['n_estimators'].unique():\n",
    "    temp = results_RF[results_RF['n_estimators'] == i]\n",
    "    plt.plot(temp['max_depth'], temp['test_score'], marker = '.', label = 'estimators: ' + str(i))\n",
    "    \n",
    "plt.legend()\n",
    "plt.xlabel('Max Depth')\n",
    "plt.ylabel(\"Mean CV Score\")\n",
    "plt.title(\"RF Performance Comparison\")\n",
    "plt.show()"
   ]
  },
  {
   "cell_type": "markdown",
   "id": "located-reaction",
   "metadata": {},
   "source": [
    "From the above plot it can be seen that the model has a highes score of **0.7436** for a `max_depth` of **7** for the number of `estimators` of **250**."
   ]
  },
  {
   "cell_type": "markdown",
   "id": "domestic-canyon",
   "metadata": {},
   "source": [
    "## Model Comparison\n",
    "\n",
    "In this section , first we fit the model with the trained model on the test set and then evaluate the `AUC` score for each model. These `AUC` score is then compared and t-test is performed to check for the significant difference in `AUC` scores between the model which will help us in the deciding the best model. In the later section we compute the confusion matrix, precision, recall and F1-score for each model and compare the which will also help us in deciding the best model for prediction.from sklearn.model_selection import cross_val_score\n",
    "cv_method_test = StratifiedKFold(n_splits=5, shuffle=True, random_state=999)"
   ]
  },
  {
   "cell_type": "code",
   "execution_count": 58,
   "id": "later-library",
   "metadata": {},
   "outputs": [],
   "source": [
    "cv_method_test = StratifiedKFold(n_splits=5, shuffle=True, random_state=999)"
   ]
  },
  {
   "cell_type": "code",
   "execution_count": 59,
   "id": "sufficient-joseph",
   "metadata": {},
   "outputs": [
    {
     "data": {
      "text/plain": [
       "0.7286004386957318"
      ]
     },
     "execution_count": 59,
     "metadata": {},
     "output_type": "execute_result"
    }
   ],
   "source": [
    "#Displaying the performance score of KNN model\n",
    "cv_results_KNN = cross_val_score(estimator=gs_KNN.best_estimator_,\n",
    "                                 X=D_Test_fs,\n",
    "                                 y=t_test, \n",
    "                                 cv=cv_method_test, \n",
    "                                 scoring='roc_auc')\n",
    "\n",
    "\n",
    "cv_results_KNN.mean()"
   ]
  },
  {
   "cell_type": "code",
   "execution_count": 60,
   "id": "amazing-albany",
   "metadata": {},
   "outputs": [
    {
     "data": {
      "text/plain": [
       "0.7605931275538507"
      ]
     },
     "execution_count": 60,
     "metadata": {},
     "output_type": "execute_result"
    }
   ],
   "source": [
    "#Displaying the performance score of Decision Tree Model\n",
    "cv_results_DT = cross_val_score(estimator=gs_DT.best_estimator_,\n",
    "                                 X=D_Test_fs,\n",
    "                                 y=t_test, \n",
    "                                 cv=cv_method_test, \n",
    "                                 scoring='roc_auc')\n",
    "cv_results_DT.mean()"
   ]
  },
  {
   "cell_type": "code",
   "execution_count": 61,
   "id": "changed-masters",
   "metadata": {},
   "outputs": [
    {
     "data": {
      "text/plain": [
       "0.7195866333016582"
      ]
     },
     "execution_count": 61,
     "metadata": {},
     "output_type": "execute_result"
    }
   ],
   "source": [
    "##Displaying the performance score of KNN model\n",
    "# Applying Power Transformation to the test set\n",
    "\n",
    "D_Test_fs_transformed = PowerTransformer().fit_transform(D_Test_fs)\n",
    "\n",
    "cv_results_NB = cross_val_score(estimator=gs_NB.best_estimator_,\n",
    "                                 X=D_Test_fs_transformed,\n",
    "                                 y=t_test, \n",
    "                                 cv=cv_method_test, \n",
    "                                 scoring='roc_auc')\n",
    "cv_results_NB.mean()"
   ]
  },
  {
   "cell_type": "code",
   "execution_count": 62,
   "id": "intensive-texas",
   "metadata": {},
   "outputs": [
    {
     "data": {
      "text/plain": [
       "0.7523663020019006"
      ]
     },
     "execution_count": 62,
     "metadata": {},
     "output_type": "execute_result"
    }
   ],
   "source": [
    "##Displaying the performance score of Random Forest Model\n",
    "cv_results_RF = cross_val_score(estimator=gs_RF.best_estimator_,\n",
    "                                 X=D_Test_fs,\n",
    "                                 y=t_test, \n",
    "                                 cv=cv_method_test, \n",
    "                                 n_jobs=-2,\n",
    "                                 scoring='roc_auc')\n",
    "cv_results_RF.mean()"
   ]
  },
  {
   "cell_type": "code",
   "execution_count": 63,
   "id": "miniature-maximum",
   "metadata": {},
   "outputs": [],
   "source": [
    "#create data frame to store cross validation scores for all 4 models\n",
    "#create first column classifiers_cross_val\n",
    "classifiers_cross_val_list = ['K-Nearest \\nNeighbours', 'Decision\\nTree', 'Random\\nDecision\\nTree', 'Naive\\nBayes']\n",
    "\n",
    "#create second column classifiers_cross_val_value\n",
    "classifiers_cross_val_list_values = [cv_results_KNN.mean().round(3),\n",
    "                                     cv_results_DT.mean().round(3),\n",
    "                                     cv_results_RF.mean().round(3),\n",
    "                                     cv_results_NB.mean().round(3)]\n",
    "\n",
    "#create the data frame\n",
    "df_cross_val = pd.DataFrame(columns = ['classifiers_cross_val', 'classifiers_cross_val_value'])\n",
    "df_cross_val['classifiers_cross_val'] = classifiers_cross_val_list\n",
    "df_cross_val['classifiers_cross_val_value'] = classifiers_cross_val_list_values"
   ]
  },
  {
   "cell_type": "code",
   "execution_count": 64,
   "id": "turned-swiss",
   "metadata": {},
   "outputs": [
    {
     "data": {
      "image/png": "[encoded data removed]",
      "text/plain": [
       "<Figure size 432x432 with 1 Axes>"
      ]
     },
     "metadata": {
      "needs_background": "light"
     },
     "output_type": "display_data"
    }
   ],
   "source": [
    "#plot bar chart for cross validation score of all 4 models\n",
    "\n",
    "fig = plt.figure(figsize = (6, 6))\n",
    "plt.rcParams.update({'font.size': 12})\n",
    "ax = fig.add_axes([0, 0, 1, 1])\n",
    "x = df_cross_val['classifiers_cross_val']\n",
    "x_pos = [i for i, _ in enumerate(x)]\n",
    "\n",
    "rects1 = ax.bar(x_pos, df_cross_val['classifiers_cross_val_value'])\n",
    "plt.xlabel('\\nClassifiers')\n",
    "plt.ylabel('Cross Validation Scores\\n')\n",
    "plt.title('Figure 16: Performance Comparison of Classifiers\\n')\n",
    "plt.xticks(x_pos, x)\n",
    "for rect in rects1:\n",
    "        height = rect.get_height()\n",
    "        ax.text(rect.get_x() + rect.get_width() / 1.75, \n",
    "                1.00 * height, \n",
    "                '%.2f' % float(height),\n",
    "                ha='center', \n",
    "                va='bottom',\n",
    "                fontsize='12')\n",
    "        \n",
    "plt.show()"
   ]
  },
  {
   "cell_type": "markdown",
   "id": "devoted-tuesday",
   "metadata": {},
   "source": [
    "From the above plot it can be seen that the `Decision Tree` performs better comapre to the rest of the models into consideration with `Cross Validation Score` of **0.76**"
   ]
  },
  {
   "cell_type": "code",
   "execution_count": 65,
   "id": "organized-break",
   "metadata": {},
   "outputs": [
    {
     "name": "stdout",
     "output_type": "stream",
     "text": [
      "Ttest_relResult(statistic=4.681262538789115, pvalue=0.009438844778137221)\n",
      "Ttest_relResult(statistic=2.0722126150699265, pvalue=0.10696174496760476)\n",
      "Ttest_relResult(statistic=4.165225469918748, pvalue=0.014085474694720225)\n"
     ]
    }
   ],
   "source": [
    "from scipy import stats\n",
    "\n",
    "# Decision seems to be the best, so let's compare that to the others\n",
    "# any p-value < 0.05 indicates a statistically significant result\n",
    "\n",
    "print(stats.ttest_rel(cv_results_DT, cv_results_KNN))\n",
    "print(stats.ttest_rel(cv_results_DT, cv_results_RF))\n",
    "print(stats.ttest_rel(cv_results_DT, cv_results_NB))"
   ]
  },
  {
   "cell_type": "markdown",
   "id": "historic-louisiana",
   "metadata": {},
   "source": [
    "From the ttest it can be seen that the p-value is less than 0.05 for 1st and 3rd results showing that there is a significant difference in the results of `Decision Tree` and `Naive Bayes`. However, there is no difference in the results of the `Decsion Tree` and `Random Forest` as the p-value is greater than 0.05 suggesting that the results are insignificant."
   ]
  },
  {
   "cell_type": "code",
   "execution_count": 66,
   "id": "competent-domestic",
   "metadata": {},
   "outputs": [],
   "source": [
    "#predict target feature for test_data using k-Nearest Neighbours\n",
    "pred_KNN = gs_KNN.predict(D_Test_fs)\n",
    "\n",
    "#predict target feature for test_data using Decision Tree\n",
    "pred_DT = gs_DT.predict(D_Test_fs)\n",
    "\n",
    "#predict target feature for test_data using Random Forests \n",
    "pred_RDT= gs_RF.predict(D_Test_fs)\n",
    "\n",
    "#predict target feature for test_data using Naive Bayes\n",
    "pred_NB= gs_NB.predict(D_Test_fs_transformed)"
   ]
  },
  {
   "cell_type": "code",
   "execution_count": 67,
   "id": "metropolitan-champion",
   "metadata": {},
   "outputs": [
    {
     "name": "stdout",
     "output_type": "stream",
     "text": [
      "\n",
      "Confusion matrix for K-Nearest Neighbor\n",
      "[[ 900  398]\n",
      " [ 749 1253]]\n",
      "\n",
      "Confusion matrix for Decision Tree\n",
      "[[1227   71]\n",
      " [1005  997]]\n",
      "\n",
      "Confusion matrix for Random Decision Tree\n",
      "[[1215   83]\n",
      " [ 983 1019]]\n",
      "\n",
      "Confusion matrix for Naive Bayes\n",
      "[[ 962  336]\n",
      " [ 836 1166]]\n"
     ]
    }
   ],
   "source": [
    "#Displaying the Confusion Matrix for each model\n",
    "print(\"\\nConfusion matrix for K-Nearest Neighbor\") \n",
    "print(metrics.confusion_matrix(t_test, pred_KNN))\n",
    "\n",
    "print(\"\\nConfusion matrix for Decision Tree\") \n",
    "print(metrics.confusion_matrix(t_test, pred_DT))\n",
    "\n",
    "print(\"\\nConfusion matrix for Random Decision Tree\") \n",
    "print(metrics.confusion_matrix(t_test, pred_RDT))\n",
    "\n",
    "print(\"\\nConfusion matrix for Naive Bayes\") \n",
    "print(metrics.confusion_matrix(t_test, pred_NB))"
   ]
  },
  {
   "cell_type": "code",
   "execution_count": 68,
   "id": "fiscal-vision",
   "metadata": {},
   "outputs": [
    {
     "name": "stdout",
     "output_type": "stream",
     "text": [
      "\n",
      "Classification Report for K-Nearest Neighbor\n",
      "              precision    recall  f1-score   support\n",
      "\n",
      "           0       0.55      0.69      0.61      1298\n",
      "           1       0.76      0.63      0.69      2002\n",
      "\n",
      "    accuracy                           0.65      3300\n",
      "   macro avg       0.65      0.66      0.65      3300\n",
      "weighted avg       0.68      0.65      0.66      3300\n",
      "\n",
      "\n",
      "Classification Report for Naive Bayes\n",
      "              precision    recall  f1-score   support\n",
      "\n",
      "           0       0.54      0.74      0.62      1298\n",
      "           1       0.78      0.58      0.67      2002\n",
      "\n",
      "    accuracy                           0.64      3300\n",
      "   macro avg       0.66      0.66      0.64      3300\n",
      "weighted avg       0.68      0.64      0.65      3300\n",
      "\n",
      "\n",
      "Classification Report for Decision Tree\n",
      "              precision    recall  f1-score   support\n",
      "\n",
      "           0       0.55      0.95      0.70      1298\n",
      "           1       0.93      0.50      0.65      2002\n",
      "\n",
      "    accuracy                           0.67      3300\n",
      "   macro avg       0.74      0.72      0.67      3300\n",
      "weighted avg       0.78      0.67      0.67      3300\n",
      "\n",
      "\n",
      "Classification Report for  Random Decision Tree\n",
      "              precision    recall  f1-score   support\n",
      "\n",
      "           0       0.55      0.94      0.70      1298\n",
      "           1       0.92      0.51      0.66      2002\n",
      "\n",
      "    accuracy                           0.68      3300\n",
      "   macro avg       0.74      0.72      0.68      3300\n",
      "weighted avg       0.78      0.68      0.67      3300\n",
      "\n"
     ]
    }
   ],
   "source": [
    "#Displaying the Classification Report for each Model\n",
    "print(\"\\nClassification Report for K-Nearest Neighbor\") \n",
    "print(metrics.classification_report(t_test, pred_KNN))\n",
    "\n",
    "print(\"\\nClassification Report for Naive Bayes\") \n",
    "print(metrics.classification_report(t_test, pred_NB))\n",
    "\n",
    "print(\"\\nClassification Report for Decision Tree\") \n",
    "print(metrics.classification_report(t_test, pred_DT))\n",
    "\n",
    "print(\"\\nClassification Report for  Random Decision Tree\") \n",
    "print(metrics.classification_report(t_test, pred_RDT))"
   ]
  },
  {
   "cell_type": "markdown",
   "id": "editorial-import",
   "metadata": {},
   "source": [
    "From the confusion matrix we want to look at the accuracy and recall values for each of the model . This is so because for out problem , that is to determine if the product is going to reach on time or not the accuracy of the model is on the priority. After that the recall of the model is checked as whenever the model predicts a possitive result we want to know how often it makes a correct prediction. \n",
    "From the above result we can see that the accuracy and recall value of Random Decision Tree or Random Forest classifier has the highest accuracy as well recall score with 1% difference with the Decision Tree model.\n",
    "Using the AUC metric the `Decision Tree` as the best performing model while using the classification report we have got the best performing model as `Random Forest Model`.\n"
   ]
  },
  {
   "cell_type": "markdown",
   "id": "drawn-cambodia",
   "metadata": {},
   "source": [
    "# Critique & Limitations\n",
    "\n",
    "- Since the models are trained only on test size of 70-30, this limits on the results of obtaining a model where all the test size are considered.\n",
    "\n",
    "- As the paramters are fixed to a limited number of  values, the models are not trained on the rest of the parameters which limits on the chances of having a better performing model compared to what has been obtained.\n",
    "\n",
    "- There are two models that can be taken into consideration which is shown by the cross validation score and the classification report. More anallysis is required for the same.\n",
    "\n",
    "- There are other efficent strategies for the approach of feature selection that can be done in order to get the best performing model"
   ]
  },
  {
   "cell_type": "markdown",
   "id": "suspended-cyprus",
   "metadata": {},
   "source": [
    "# Summary & Conclusions"
   ]
  },
  {
   "cell_type": "markdown",
   "id": "reserved-potter",
   "metadata": {},
   "source": [
    "## Project Summary\n",
    "To give a brief summary of our overall project we started with the data cleaning by dropping the 'Id' column and modifying the target variable to a convenient naming convention from \"Reached.on.Time_Y.N\" to \"Reached_On_Time\".\n",
    "In Phase 1 of the project we visualised , one variable, two variable and three variable plots so as to find the correlation between the different features and their association with the target variable. From the heatmap we found that the highest correlation is among the `Discount_offered` and `Reached_on Time`.\n",
    "\n",
    "Then we split the target variable and other descriptive features into two separate dataframes as the target variable is in the required format and we need not transform it.\n",
    "\n",
    "For data preparation we used the get_dummies function to encode the categorical features  in 1s and 0s format.\n",
    "Next,to transform the values of all the variables on a similar scale i.e between 0 and 1 we used the 'MinMaxScaler' method.The data is now ready for further processing.\n",
    "\n",
    "Before feature selection we divided the dataset into training and test data where we are considering the test data to be 30% and the training data to be 70%.\n",
    "\n",
    "For selecting the features we considered all the features and found the performance to be .Then we implemented three of the filter methods for feature selection - `fscore`, `Mutual Information` and `Random Forest Importance` with Number of **Features = 6**. After performing the cross validation using `StratifieldKfold` and using the `roc_auc` metric we found that `f-score` works best in terms of performance for the `DecisionTreeClassifier`. We performed t-tests to calculate the p values but none of them were statistically different i.e. none of the values were < 0.05.\n",
    "\n",
    "For model building we used `KNN`,`DecisionTree`,`RandomForest` and `NaiveBayes` classifiers and tuned the parameters to find the best results for each of the algorithms. After comparing the performance of these classifiers on the test data , it was found that `Decision Tree` is the best algorithm with an accuracy of `76.05%`.\n",
    "\n",
    "`t-test` was performed to find the statistically best performing algorithm using cross validation method with scoring metric as `roc_auc`.It was found that for `KNN` and `Naive Bayes` when compared with `Decision Tree` we got a statistically significant result as the p-value is <0.05 but statistically insignificant result for `Random Forest`.\n",
    "\n",
    "A comparison bar graph is also plotted to get a clear idea of the comparison along with the confusion matrix and classification report, which gave `Decision Tree` and `Random Forest` as the best algorithm to solve this problem. For our objective we have decided to go forward with both the models as both the models have statistically insignificant results whcih means they are almost the same which can be from the accuracy and recall score which shows 1% difference in their results.\n"
   ]
  },
  {
   "cell_type": "markdown",
   "id": "judicial-bryan",
   "metadata": {},
   "source": [
    "## Summary of Findings\n",
    "\n",
    "From the results it has been observed that both the `Decision Tree` and `Random Forest/Decision Tree` perform better compared to the rest of the models. However, using the cross validation score the `Decision Tree` seems to be promising while using the classification reprt the`Random Forest` model seems to be promising. This can be resolved with the ttest results of the model comparison. It can be seen that the there is no difference in the results of the `Decision Tree` and `Random Forest` which is show by p-value greater than 0.05. Also, both the models have a difference of 1% in their reuslts which can be ignored. So, for our goal of prediciting the delivery status of product reaching on time both the models `Decision Tree` and `Random Forest` can be used."
   ]
  },
  {
   "cell_type": "markdown",
   "id": "composed-embassy",
   "metadata": {},
   "source": [
    "## Conclusions\n",
    "\n",
    "To conclude, as per the reuslts from data exploration the business needs to priortize on the time delivery of low and high cost products. \n",
    "Based on the feature selecting models the `Mutual Information` technique performed the best whose feauteres were used for modeling various machine learning algorithms. \n",
    "From evaluating the performances of each model `Decision Tree` and `Random Forest` models performed the best. Hence, to predict if the products would be delivered on time or not the business can make use of the `Decision Tree` and `Random Forest` Models to aid in decision making and operating the business in an efficient and optimised manner."
   ]
  },
  {
   "cell_type": "markdown",
   "id": "empirical-swaziland",
   "metadata": {},
   "source": [
    "# REFERENCES\n",
    "\n",
    "[1]\"E-Commerce Shipping Data\", Kaggle.com, 2021. [Online]. Available: https://www.kaggle.com/prachi13/customer-analytics. [Accessed: 30- May- 2021].\n",
    "\n",
    "[2]\"SK Part 2: Feature Selection and Ranking | www.featureranking.com\", www.featureranking.com, 2021. [Online]. Available: https://www.featureranking.com/tutorials/machine-learning-tutorials/sk-part-2-feature-selection-and-ranking/. [Accessed: 30- May- 2021].\n",
    "\n",
    "[3]\"SK Part 3: Cross-Validation and Hyperparameter Tuning | www.featureranking.com\", www.featureranking.com, 2021. [Online]. Available: https://www.featureranking.com/tutorials/machine-learning-tutorials/sk-part-3-cross-validation-and-hyperparameter-tuning/. [Accessed: 30- May- 2021].\n",
    "\n",
    "[4]\"SK Part 4: Model Evaluation | www.featureranking.com\", www.featureranking.com, 2021. [Online]. Available: https://www.featureranking.com/tutorials/machine-learning-tutorials/sk-part-4-model-evaluation/. [Accessed: 30- May- 2021]."
   ]
  }
 ],
 "metadata": {
  "kernelspec": {
   "display_name": "Python 3",
   "language": "python",
   "name": "python3"
  },
  "language_info": {
   "codemirror_mode": {
    "name": "ipython",
    "version": 3
   },
   "file_extension": ".py",
   "mimetype": "text/x-python",
   "name": "python",
   "nbconvert_exporter": "python",
   "pygments_lexer": "ipython3",
   "version": "3.8.8"
  },
  "toc": {
   "base_numbering": 1,
   "nav_menu": {},
   "number_sections": true,
   "sideBar": true,
   "skip_h1_title": false,
   "title_cell": "Table of Contents",
   "title_sidebar": "Contents",
   "toc_cell": true,
   "toc_position": {},
   "toc_section_display": true,
   "toc_window_display": false
  }
 },
 "nbformat": 4,
 "nbformat_minor": 5
}
